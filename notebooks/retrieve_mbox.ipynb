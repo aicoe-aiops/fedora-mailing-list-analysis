{
 "cells": [
  {
   "cell_type": "code",
   "execution_count": 1,
   "metadata": {},
   "outputs": [],
   "source": [
    "import os\n",
    "import io\n",
    "import boto3\n",
    "import gzip\n",
    "import wget\n",
    "from dotenv import load_dotenv, find_dotenv"
   ]
  },
  {
   "cell_type": "markdown",
   "metadata": {},
   "source": [
    "This will take the gzip file and write the mbox to a new file. Still attempting to figure out how to do this without having to save locally and just write directly to bucket "
   ]
  },
  {
   "cell_type": "code",
   "execution_count": 2,
   "metadata": {},
   "outputs": [],
   "source": [
    "def gunzip(source_filepath, dest_filepath, block_size=65536):\n",
    "    with gzip.open(source_filepath, 'rb') as s_file, \\\n",
    "            open(dest_filepath, 'wb') as d_file:\n",
    "        while True:\n",
    "            block = s_file.read(block_size)\n",
    "            if not block:\n",
    "                break\n",
    "            else:\n",
    "                d_file.write(block)"
   ]
  },
  {
   "cell_type": "markdown",
   "metadata": {},
   "source": [
    "This retrieves the gzip from the fedora archieves for the time interval specified. From there it is unzipped and saved locally"
   ]
  },
  {
   "cell_type": "code",
   "execution_count": 3,
   "metadata": {},
   "outputs": [
    {
     "name": "stdout",
     "output_type": "stream",
     "text": [
      "Are you looking at dev or user? dev\n",
      "What year do you want to start with? example 2016: 2017\n",
      "What month do you want to start with? example 01: 10\n",
      "What year do you want to end with? example 2016: 2018\n",
      "What month do you want to end with? example 01: 10\n",
      "https://lists.fedoraproject.org/archives/list/devel@lists.fedoraproject.org/export/devel@lists.fedoraproject.org.mbox.gz?start=2017-10-01&end=2018-11-01\n"
     ]
    }
   ],
   "source": [
    "f_list = input(\"Are you looking at dev or user? \")\n",
    "\n",
    "if f_list == 'dev':\n",
    "    s = \"https://lists.fedoraproject.org/archives/list/devel@lists.fedoraproject.org/export/devel@lists.fedoraproject.org.mbox.gz?start=\"\n",
    "    name = \"../data//devel@lists.fedoraproject.org.mbox.gz\"\n",
    "elif f_list == 'user':\n",
    "    s = \"https://lists.fedoraproject.org/archives/list/users@lists.fedoraproject.org/export/users@lists.fedoraproject.org.mbox.gz?start=\"\n",
    "    name = \"../data//users@lists.fedoraproject.org.mbox.gz\"\n",
    "\n",
    "start_year = input(\"What year do you want to start with? example 2016: \" )\n",
    "start_month = input(\"What month do you want to start with? example 01: \" )\n",
    "\n",
    "finish_year = input(\"What year do you want to end with? example 2016: \" )\n",
    "finish_month = input(\"What month do you want to end with? example 01: \" )\n",
    "finish_month = str((int(finish_month)%12)+1)\n",
    "\n",
    "s = f\"{s}{start_year}-{start_month}-01&end={finish_year}-{finish_month}-01\"\n",
    "print(s)\n",
    "\n",
    "wget.download(s, out=\"../data/\")\n",
    "\n",
    "gunzip(name,\"/opt/app-root/src/trying.mbox\" )\n",
    "\n",
    "            "
   ]
  },
  {
   "cell_type": "code",
   "execution_count": 6,
   "metadata": {
    "scrolled": true
   },
   "outputs": [
    {
     "name": "stdout",
     "output_type": "stream",
     "text": [
      "https://s3.upshift.redhat.com\n",
      "cdolfi\n"
     ]
    }
   ],
   "source": [
    "dotenv_path = find_dotenv()\n",
    "load_dotenv(dotenv_path)\n",
    "s3_secret_key = os.environ['AWS_SECRET_ACCESS_KEY']\n",
    "s3_bucket_name = os.environ['JUPYTERHUB_USER']\n",
    "s3_endpoint_url = os.environ['S3_ENDPOINT_URL']\n",
    "s3_access_key = os.environ['AWS_ACCESS_KEY_ID']\n",
    "s3bucket = os.environ['BUCKET']\n",
    "\n",
    "print(s3_endpoint_url)\n",
    "print(s3_bucket_name)\n",
    "s3 = boto3.client('s3','us-east-1', endpoint_url= s3_endpoint_url,\n",
    "                       aws_access_key_id = s3_access_key,\n",
    "                       aws_secret_access_key = s3_secret_key)"
   ]
  },
  {
   "cell_type": "code",
   "execution_count": 10,
   "metadata": {},
   "outputs": [],
   "source": [
    "\n",
    "s3_location = \"cdolfi/mboxes/\" + start_year + \"_\" + start_month + \"-\" + finish_year + \"_\"+  finish_month + \".mbox\"\n",
    "s3.upload_file(Filename=\"/opt/app-root/src/trying.mbox\",Bucket=s3bucket, Key=s3_location)"
   ]
  },
  {
   "cell_type": "code",
   "execution_count": 5,
   "metadata": {},
   "outputs": [],
   "source": [
    "import mailbox\n",
    "msgs = mailbox.mbox(\"/opt/app-root/src/trying.mbox\")"
   ]
  },
  {
   "cell_type": "code",
   "execution_count": 7,
   "metadata": {},
   "outputs": [],
   "source": [
    "s3_location = \"cdolfi/gzip/\" + start_year + \"_\" + start_month + \"-\" + finish_year + \"_\"+  finish_month + \".gzip\"\n",
    "s3.upload_file(Filename=name,Bucket=s3bucket, Key=s3_location)"
   ]
  },
  {
   "cell_type": "code",
   "execution_count": null,
   "metadata": {},
   "outputs": [],
   "source": []
  }
 ],
 "metadata": {
  "kernelspec": {
   "display_name": "mailing",
   "language": "python",
   "name": "mailing"
  },
  "language_info": {
   "codemirror_mode": {
    "name": "ipython",
    "version": 3
   },
   "file_extension": ".py",
   "mimetype": "text/x-python",
   "name": "python",
   "nbconvert_exporter": "python",
   "pygments_lexer": "ipython3",
   "version": "3.6.3"
  }
 },
 "nbformat": 4,
 "nbformat_minor": 2
}
