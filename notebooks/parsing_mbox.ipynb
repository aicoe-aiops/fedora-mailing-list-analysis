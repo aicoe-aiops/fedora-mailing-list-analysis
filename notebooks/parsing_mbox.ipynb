{
 "cells": [
  {
   "cell_type": "code",
   "execution_count": 29,
   "metadata": {},
   "outputs": [],
   "source": [
    "import pandas as pd\n",
    "import numpy as np \n",
    "from datetime import datetime\n",
    "import mailbox\n",
    "import regex as re \n",
    "import os \n",
    "import boto3 \n",
    "from dotenv import load_dotenv, find_dotenv"
   ]
  },
  {
   "cell_type": "code",
   "execution_count": 30,
   "metadata": {},
   "outputs": [
    {
     "name": "stdout",
     "output_type": "stream",
     "text": [
      "https://s3.upshift.redhat.com\n",
      "cdolfi\n"
     ]
    }
   ],
   "source": [
    "dotenv_path = find_dotenv()\n",
    "load_dotenv(dotenv_path)\n",
    "s3_secret_key = os.environ['AWS_SECRET_ACCESS_KEY']\n",
    "s3_bucket_name = os.environ['JUPYTERHUB_USER']\n",
    "s3_endpoint_url = os.environ['S3_ENDPOINT_URL']\n",
    "s3_access_key = os.environ['AWS_ACCESS_KEY_ID']\n",
    "s3bucket = os.environ['BUCKET']\n",
    "\n",
    "print(s3_endpoint_url)\n",
    "print(s3_bucket_name)\n",
    "s3 = boto3.client('s3','us-east-1', endpoint_url= s3_endpoint_url,\n",
    "                       aws_access_key_id = s3_access_key,\n",
    "                       aws_secret_access_key = s3_secret_key)"
   ]
  },
  {
   "cell_type": "markdown",
   "metadata": {},
   "source": [
    "The \"msgs\" portion is where the errors come with trying to get the mbox"
   ]
  },
  {
   "cell_type": "code",
   "execution_count": null,
   "metadata": {},
   "outputs": [],
   "source": [
    "obj = s3.get_object(Bucket =s3bucket, Key = 'cdolfi/gzip/2017_10-2018_11.gzip')\n"
   ]
  },
  {
   "cell_type": "code",
   "execution_count": 31,
   "metadata": {},
   "outputs": [
    {
     "name": "stdout",
     "output_type": "stream",
     "text": [
      "Are you looking at dev or user? dev\n",
      "What year do you want to start with? example 2016: 2016\n",
      "What month do you want to start with? example 01: 10\n",
      "What year do you want to end with? example 2016: 2017\n",
      "What month do you want to end with? example 01: 10\n"
     ]
    },
    {
     "ename": "TypeError",
     "evalue": "expected str, bytes or os.PathLike object, not StreamingBody",
     "output_type": "error",
     "traceback": [
      "\u001b[0;31m---------------------------------------------------------------------------\u001b[0m",
      "\u001b[0;31mTypeError\u001b[0m                                 Traceback (most recent call last)",
      "\u001b[0;32m<ipython-input-31-c9b199f4732a>\u001b[0m in \u001b[0;36m<module>\u001b[0;34m\u001b[0m\n\u001b[1;32m     10\u001b[0m \u001b[0mobj\u001b[0m \u001b[0;34m=\u001b[0m \u001b[0ms3\u001b[0m\u001b[0;34m.\u001b[0m\u001b[0mget_object\u001b[0m\u001b[0;34m(\u001b[0m\u001b[0mBucket\u001b[0m \u001b[0;34m=\u001b[0m\u001b[0ms3bucket\u001b[0m\u001b[0;34m,\u001b[0m \u001b[0mKey\u001b[0m \u001b[0;34m=\u001b[0m \u001b[0mfile\u001b[0m\u001b[0;34m)\u001b[0m\u001b[0;34m\u001b[0m\u001b[0m\n\u001b[1;32m     11\u001b[0m \u001b[0;31m#THIS IS WHERE THE ISSUE COMES\u001b[0m\u001b[0;34m\u001b[0m\u001b[0;34m\u001b[0m\u001b[0m\n\u001b[0;32m---> 12\u001b[0;31m \u001b[0mmsgs\u001b[0m \u001b[0;34m=\u001b[0m \u001b[0mmailbox\u001b[0m\u001b[0;34m.\u001b[0m\u001b[0mmbox\u001b[0m\u001b[0;34m(\u001b[0m\u001b[0mobj\u001b[0m\u001b[0;34m[\u001b[0m\u001b[0;34m'Body'\u001b[0m\u001b[0;34m]\u001b[0m\u001b[0;34m)\u001b[0m\u001b[0;34m\u001b[0m\u001b[0m\n\u001b[0m",
      "\u001b[0;32m/opt/rh/rh-python36/root/usr/lib64/python3.6/mailbox.py\u001b[0m in \u001b[0;36m__init__\u001b[0;34m(self, path, factory, create)\u001b[0m\n\u001b[1;32m    845\u001b[0m         \u001b[0;34m\"\"\"Initialize an mbox mailbox.\"\"\"\u001b[0m\u001b[0;34m\u001b[0m\u001b[0m\n\u001b[1;32m    846\u001b[0m         \u001b[0mself\u001b[0m\u001b[0;34m.\u001b[0m\u001b[0m_message_factory\u001b[0m \u001b[0;34m=\u001b[0m \u001b[0mmboxMessage\u001b[0m\u001b[0;34m\u001b[0m\u001b[0m\n\u001b[0;32m--> 847\u001b[0;31m         \u001b[0m_mboxMMDF\u001b[0m\u001b[0;34m.\u001b[0m\u001b[0m__init__\u001b[0m\u001b[0;34m(\u001b[0m\u001b[0mself\u001b[0m\u001b[0;34m,\u001b[0m \u001b[0mpath\u001b[0m\u001b[0;34m,\u001b[0m \u001b[0mfactory\u001b[0m\u001b[0;34m,\u001b[0m \u001b[0mcreate\u001b[0m\u001b[0;34m)\u001b[0m\u001b[0;34m\u001b[0m\u001b[0m\n\u001b[0m\u001b[1;32m    848\u001b[0m \u001b[0;34m\u001b[0m\u001b[0m\n\u001b[1;32m    849\u001b[0m     \u001b[0;32mdef\u001b[0m \u001b[0m_post_message_hook\u001b[0m\u001b[0;34m(\u001b[0m\u001b[0mself\u001b[0m\u001b[0;34m,\u001b[0m \u001b[0mf\u001b[0m\u001b[0;34m)\u001b[0m\u001b[0;34m:\u001b[0m\u001b[0;34m\u001b[0m\u001b[0m\n",
      "\u001b[0;32m/opt/rh/rh-python36/root/usr/lib64/python3.6/mailbox.py\u001b[0m in \u001b[0;36m__init__\u001b[0;34m(self, path, factory, create)\u001b[0m\n\u001b[1;32m    577\u001b[0m     \u001b[0;32mdef\u001b[0m \u001b[0m__init__\u001b[0m\u001b[0;34m(\u001b[0m\u001b[0mself\u001b[0m\u001b[0;34m,\u001b[0m \u001b[0mpath\u001b[0m\u001b[0;34m,\u001b[0m \u001b[0mfactory\u001b[0m\u001b[0;34m=\u001b[0m\u001b[0;32mNone\u001b[0m\u001b[0;34m,\u001b[0m \u001b[0mcreate\u001b[0m\u001b[0;34m=\u001b[0m\u001b[0;32mTrue\u001b[0m\u001b[0;34m)\u001b[0m\u001b[0;34m:\u001b[0m\u001b[0;34m\u001b[0m\u001b[0m\n\u001b[1;32m    578\u001b[0m         \u001b[0;34m\"\"\"Initialize a single-file mailbox.\"\"\"\u001b[0m\u001b[0;34m\u001b[0m\u001b[0m\n\u001b[0;32m--> 579\u001b[0;31m         \u001b[0mMailbox\u001b[0m\u001b[0;34m.\u001b[0m\u001b[0m__init__\u001b[0m\u001b[0;34m(\u001b[0m\u001b[0mself\u001b[0m\u001b[0;34m,\u001b[0m \u001b[0mpath\u001b[0m\u001b[0;34m,\u001b[0m \u001b[0mfactory\u001b[0m\u001b[0;34m,\u001b[0m \u001b[0mcreate\u001b[0m\u001b[0;34m)\u001b[0m\u001b[0;34m\u001b[0m\u001b[0m\n\u001b[0m\u001b[1;32m    580\u001b[0m         \u001b[0;32mtry\u001b[0m\u001b[0;34m:\u001b[0m\u001b[0;34m\u001b[0m\u001b[0m\n\u001b[1;32m    581\u001b[0m             \u001b[0mf\u001b[0m \u001b[0;34m=\u001b[0m \u001b[0mopen\u001b[0m\u001b[0;34m(\u001b[0m\u001b[0mself\u001b[0m\u001b[0;34m.\u001b[0m\u001b[0m_path\u001b[0m\u001b[0;34m,\u001b[0m \u001b[0;34m'rb+'\u001b[0m\u001b[0;34m)\u001b[0m\u001b[0;34m\u001b[0m\u001b[0m\n",
      "\u001b[0;32m/opt/rh/rh-python36/root/usr/lib64/python3.6/mailbox.py\u001b[0m in \u001b[0;36m__init__\u001b[0;34m(self, path, factory, create)\u001b[0m\n\u001b[1;32m     36\u001b[0m     \u001b[0;32mdef\u001b[0m \u001b[0m__init__\u001b[0m\u001b[0;34m(\u001b[0m\u001b[0mself\u001b[0m\u001b[0;34m,\u001b[0m \u001b[0mpath\u001b[0m\u001b[0;34m,\u001b[0m \u001b[0mfactory\u001b[0m\u001b[0;34m=\u001b[0m\u001b[0;32mNone\u001b[0m\u001b[0;34m,\u001b[0m \u001b[0mcreate\u001b[0m\u001b[0;34m=\u001b[0m\u001b[0;32mTrue\u001b[0m\u001b[0;34m)\u001b[0m\u001b[0;34m:\u001b[0m\u001b[0;34m\u001b[0m\u001b[0m\n\u001b[1;32m     37\u001b[0m         \u001b[0;34m\"\"\"Initialize a Mailbox instance.\"\"\"\u001b[0m\u001b[0;34m\u001b[0m\u001b[0m\n\u001b[0;32m---> 38\u001b[0;31m         \u001b[0mself\u001b[0m\u001b[0;34m.\u001b[0m\u001b[0m_path\u001b[0m \u001b[0;34m=\u001b[0m \u001b[0mos\u001b[0m\u001b[0;34m.\u001b[0m\u001b[0mpath\u001b[0m\u001b[0;34m.\u001b[0m\u001b[0mabspath\u001b[0m\u001b[0;34m(\u001b[0m\u001b[0mos\u001b[0m\u001b[0;34m.\u001b[0m\u001b[0mpath\u001b[0m\u001b[0;34m.\u001b[0m\u001b[0mexpanduser\u001b[0m\u001b[0;34m(\u001b[0m\u001b[0mpath\u001b[0m\u001b[0;34m)\u001b[0m\u001b[0;34m)\u001b[0m\u001b[0;34m\u001b[0m\u001b[0m\n\u001b[0m\u001b[1;32m     39\u001b[0m         \u001b[0mself\u001b[0m\u001b[0;34m.\u001b[0m\u001b[0m_factory\u001b[0m \u001b[0;34m=\u001b[0m \u001b[0mfactory\u001b[0m\u001b[0;34m\u001b[0m\u001b[0m\n\u001b[1;32m     40\u001b[0m \u001b[0;34m\u001b[0m\u001b[0m\n",
      "\u001b[0;32m/opt/rh/rh-python36/root/usr/lib64/python3.6/posixpath.py\u001b[0m in \u001b[0;36mexpanduser\u001b[0;34m(path)\u001b[0m\n\u001b[1;32m    231\u001b[0m     \"\"\"Expand ~ and ~user constructions.  If user or $HOME is unknown,\n\u001b[1;32m    232\u001b[0m     do nothing.\"\"\"\n\u001b[0;32m--> 233\u001b[0;31m     \u001b[0mpath\u001b[0m \u001b[0;34m=\u001b[0m \u001b[0mos\u001b[0m\u001b[0;34m.\u001b[0m\u001b[0mfspath\u001b[0m\u001b[0;34m(\u001b[0m\u001b[0mpath\u001b[0m\u001b[0;34m)\u001b[0m\u001b[0;34m\u001b[0m\u001b[0m\n\u001b[0m\u001b[1;32m    234\u001b[0m     \u001b[0;32mif\u001b[0m \u001b[0misinstance\u001b[0m\u001b[0;34m(\u001b[0m\u001b[0mpath\u001b[0m\u001b[0;34m,\u001b[0m \u001b[0mbytes\u001b[0m\u001b[0;34m)\u001b[0m\u001b[0;34m:\u001b[0m\u001b[0;34m\u001b[0m\u001b[0m\n\u001b[1;32m    235\u001b[0m         \u001b[0mtilde\u001b[0m \u001b[0;34m=\u001b[0m \u001b[0;34mb'~'\u001b[0m\u001b[0;34m\u001b[0m\u001b[0m\n",
      "\u001b[0;31mTypeError\u001b[0m: expected str, bytes or os.PathLike object, not StreamingBody"
     ]
    }
   ],
   "source": [
    "\n",
    "f_list = input(\"Are you looking at dev or user? \")\n",
    "start_year = input(\"What year do you want to start with? example 2016: \" )\n",
    "start_month = input(\"What month do you want to start with? example 01: \" )\n",
    "\n",
    "finish_year = input(\"What year do you want to end with? example 2016: \" )\n",
    "finish_month = input(\"What month do you want to end with? example 01: \" )\n",
    "finish_month = str((int(finish_month)%12)+1)\n",
    "\n",
    "file = \"cdolfi/mboxes/\" + start_year + \"_\" + start_month + \"-\" + finish_year + \"_\"+  finish_month + \".mbox\"\n",
    "obj = s3.get_object(Bucket =s3bucket, Key = file)\n",
    "#THIS IS WHERE THE ISSUE COMES\n",
    "msgs = mailbox.mbox(obj['Body'])"
   ]
  },
  {
   "cell_type": "code",
   "execution_count": 13,
   "metadata": {},
   "outputs": [],
   "source": [
    "#how to get text from a message in the mbox \n",
    "def get_text(msg):\n",
    "    while msg.is_multipart():\n",
    "        msg = msg.get_payload()[0]\n",
    "    return msg.get_payload()"
   ]
  },
  {
   "cell_type": "code",
   "execution_count": 1,
   "metadata": {},
   "outputs": [],
   "source": [
    "#strip thread text and dates in body text\n",
    "def strip_thread(text):\n",
    "    text = text.replace(\"\\r\", \"\")\n",
    "    lines = text.split(\"\\n\")\n",
    "    lines = [l for l in lines if len(l) > 0]\n",
    "    lines = [line for line in lines if line[0] != \">\"]\n",
    "    lines = [line for line in lines if line[:3] != \"Re:\"]\n",
    "    lines = [line for line in lines if line[:7] != \"Subject\"]\n",
    "    lines = [line for line in lines if line[:5] != \"From:\"]\n",
    "    lines = [line for line in lines if line[:5] != \"Date:\"]\n",
    "    lines = [line for line in lines if \"BEGIN PGP SIGNED MESSAGE\" not in line]\n",
    "    lines = [line for line in lines if line[:5] != \"Hash:\"]\n",
    "    lines = [line for line in lines if line[:10] != \"Version: G\"]\n",
    "    lines = [line for line in lines if \"wrote:\" not in line]\n",
    "    lines = [line for line in lines if \"wrote :\" not in line]\n",
    "    lines = [line for line in lines if \"writes:\" not in line]\n",
    "    lines = [line for line in lines if line[:7] != \"Am Mit,\"]\n",
    "    lines = [line for line in lines if line[:7] != \"Am Don,\"]\n",
    "    lines = [line for line in lines if line[:7] != \"Am Mon,\"]\n",
    "    lines = [line for line in lines if line[:7] != \"Quoting\"]\n",
    "    lines = [line for line in lines if line[:10] != \"Em Quinta,\"]\n",
    "    lines = [line for line in lines if \"said:\" not in line]\n",
    "    lines = [line for line in lines if re.match(\".*n (Sun|Mon|Tue|Wed|Thu|Fri|Sat), .. (Jan|Feb|Mar|Apr|May|Jun|Jul|Aug|Sep|Sept|Oct|Nov|Dec) 20..*\", line) == None]\n",
    "    lines = [line for line in lines if re.match(\".*n (Sunday|Monday|Tuesday|Wednesday|Thursday|Friday|Saturday) .. (January|February|March|April|May|June|July|August|September|October|November|December) 20..*\", line) == None]\n",
    "    lines = [line for line in lines if re.match(\".*n (Sun|Mon|Tue|Wed|Thu|Fri|Sat), (Jan|Feb|Mar|Apr|May|Jun|Jul|Aug|Sep|Sept|Oct|Nov|Dec) .., 20..*\", line) == None]\n",
    "    lines = [line for line in lines if re.match(\".*n (Sun|Mon|Tue|Wed|Thu|Fri|Sat), 20[\\d]{2}-[\\d]{2}-[\\d]{2} at.*\", line) == None]\n",
    "    lines = [line for line in lines if line[-6:] != \"said: \"]\n",
    "    lines = [line for line in lines if line[-8:] != \"babbled:\"]\n",
    "    lines = [line for line in lines if line[-7:] != \"wrot=e:\"]\n",
    "    lines = [line for line in lines if line[-8:] != \"A9crit :\"]\n",
    "    lines = [line for line in lines if line[0] != \"|\"]\n",
    "    return \"\\n\".join(lines)"
   ]
  },
  {
   "cell_type": "code",
   "execution_count": 15,
   "metadata": {},
   "outputs": [],
   "source": [
    "#build 2d list of email data with thread text and dates removed\n",
    "def build_list(mbox):\n",
    "    chart = [] \n",
    "    for msg in mbox: \n",
    "        clean_body = strip_thread(get_text(msg))\n",
    "        entry = [clean_body, msg[\"Date\"][:-9], msg[\"From\"], msg[\"Subject\"]]\n",
    "        chart.append(entry)\n",
    "    return chart\n",
    "    "
   ]
  },
  {
   "cell_type": "code",
   "execution_count": 16,
   "metadata": {},
   "outputs": [],
   "source": [
    "#format for CSV, clean special characters, and remove extranous emails \n",
    "def pandas_clean(chart):\n",
    "    emails = pd.DataFrame(chart, columns = [\"Body\", 'Date', \"From\", \"Subject\"]) \n",
    "    emails['Body'].replace(to_replace=[r\"\\n\", \"\\n\",], value= \" \", regex=True, inplace=True)\n",
    "    emails['Body'].replace(to_replace=[r\"\\'\", \"\\'\",\">\",'<',\"= \", \"-\", \"http\\S+\" ], value=\"\", regex=True, inplace=True)\n",
    "    emails['Body'].replace(to_replace=[ r\"\\\\\\s+\", \"\\\\\\s+\" , \"=\"], value= \"\", regex=True, inplace=True)\n",
    "    emails['Body'].replace(to_replace= [ \"   \", \"  \"], value= \" \", regex=True, inplace=True)\n",
    "    emails['Body'].replace(to_replace= [\"_\",\"3D\"], value= \"\", regex=True, inplace=True)\n",
    "    emails['Body'].replace(to_replace= [ \"   \", \"  \"], value= \" \", regex=True, inplace=True)\n",
    "    emails['Body'].replace(to_replace= [ \"   \", \"  \"], value= \" \", regex=True, inplace=True)\n",
    "    \n",
    "    emails.drop(emails.index[emails['Body'] == ''], inplace = True)\n",
    "    emails.drop(emails.index[emails['Body'] == ' '], inplace = True)\n",
    "    emails.dropna(subset=['Body'], inplace=True)\n",
    "    emails['location'] = emails['Body'].str.find('Missing expected images')\n",
    "    \n",
    "    emails.drop(emails.index[emails['location'] == 0], inplace = True)\n",
    "    emails.drop('location' ,axis=1, inplace=True )\n",
    "    emails['location'] = emails['Body'].str.find('OLD: Fedora')\n",
    "    emails.drop(emails.index[emails['location'] == 0], inplace = True)\n",
    "    emails.drop('location' ,axis=1, inplace=True )\n",
    "    \n",
    "    emails['datetime'] = pd.to_datetime(emails['Date'], format='%a, %d %b %Y %H:%M')\n",
    "    emails.sort_values(by= 'datetime', inplace = True)\n",
    "    \n",
    "    emails = emails.reset_index()\n",
    "    emails.drop('index',axis=1, inplace=True )\n",
    "    return emails\n",
    "    "
   ]
  },
  {
   "cell_type": "code",
   "execution_count": 17,
   "metadata": {},
   "outputs": [],
   "source": [
    "#preforming function on mbox \n",
    "\n",
    "mbox_info = build_list(msgs)\n",
    "data = pandas_clean(mbox_info)\n",
    "\n",
    "#updated this to save to bucket with naming conventions depending on the mbox that are retrieved\n",
    "#updated_email.to_csv('/opt/app-root/src/data/user_clean2.csv')"
   ]
  },
  {
   "cell_type": "code",
   "execution_count": null,
   "metadata": {},
   "outputs": [],
   "source": [
    "data.to_csv('/opt/app-root/src/data/temp_clean.csv')\n",
    "s3_location = \"cdolfi/cleaned_\" +f_list + \"/\" + start_year + \"_\" + start_month + \"-\" + finish_year + \"_\"+  finish_month + \".mbox\"\n",
    "s3.upload_file(Filename='/opt/app-root/src/data/temp_clean.csv',Bucket=s3bucket, Key=s3_location)"
   ]
  },
  {
   "cell_type": "code",
   "execution_count": null,
   "metadata": {},
   "outputs": [],
   "source": []
  }
 ],
 "metadata": {
  "kernelspec": {
   "display_name": "mailing",
   "language": "python",
   "name": "mailing"
  },
  "language_info": {
   "codemirror_mode": {
    "name": "ipython",
    "version": 3
   },
   "file_extension": ".py",
   "mimetype": "text/x-python",
   "name": "python",
   "nbconvert_exporter": "python",
   "pygments_lexer": "ipython3",
   "version": "3.6.3"
  }
 },
 "nbformat": 4,
 "nbformat_minor": 2
}
